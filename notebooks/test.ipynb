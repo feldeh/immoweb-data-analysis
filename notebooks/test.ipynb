{
 "cells": [
  {
   "cell_type": "code",
   "execution_count": 15148,
   "id": "2f17db82",
   "metadata": {},
   "outputs": [],
   "source": [
    "import pandas as pd\n",
    "import numpy as np\n",
    "\n",
    "pd.set_option('display.max_columns', None)\n",
    "pd.set_option('display.min_rows', 20)"
   ]
  },
  {
   "cell_type": "code",
   "execution_count": 15149,
   "id": "b41fa0da",
   "metadata": {},
   "outputs": [],
   "source": [
    "#df = pd.read_csv(\"../data/raw/properties_data.csv\")\n",
    "df = pd.read_pickle(\"../data/clean/clean_data.pkl\")\n",
    "\n"
   ]
  },
  {
   "cell_type": "code",
   "execution_count": 15150,
   "id": "934ec7d9",
   "metadata": {},
   "outputs": [],
   "source": [
    "df['postalCode'] = df['postalCode'].astype('float64')\n",
    "df['postalCode'] = (df['postalCode'] / 100).apply(np.floor)\n",
    "df['postalCode'] = df['postalCode'].astype('Int64').astype('str')\n"
   ]
  },
  {
   "cell_type": "code",
   "execution_count": 15151,
   "id": "e8220575",
   "metadata": {},
   "outputs": [],
   "source": [
    "#df['constructionYear'] = df['constructionYear'].fillna('no_info')\n"
   ]
  },
  {
   "cell_type": "code",
   "execution_count": 15154,
   "id": "beb6e346",
   "metadata": {},
   "outputs": [],
   "source": [
    "df_h = df[df['type'] == 'HOUSE']\n",
    "df_a = df[df['type'] == 'APARTMENT']\n",
    "\n",
    "df_h = df_h.drop('type', axis=1)\n",
    "df_a = df_a.drop('type', axis=1)\n"
   ]
  },
  {
   "cell_type": "code",
   "execution_count": 15155,
   "id": "67949064",
   "metadata": {},
   "outputs": [
    {
     "data": {
      "text/plain": [
       "Index(['price', 'type', 'subtype', 'region', 'province', 'district',\n",
       "       'postalCode', 'latitude', 'longitude', 'bedroomCount',\n",
       "       'netHabitableSurface', 'constructionYear', 'condition', 'hasLift',\n",
       "       'kitchen', 'hasGarden', 'gardenSurface', 'hasTerrace', 'terraceSurface',\n",
       "       'fireplaceExists', 'hasSwimmingPool', 'hasAirConditioning',\n",
       "       'bathroomCount', 'showerRoomCount', 'parkingCountIndoor', 'heatingType',\n",
       "       'hasDoubleGlazing', 'saleType'],\n",
       "      dtype='object')"
      ]
     },
     "execution_count": 15155,
     "metadata": {},
     "output_type": "execute_result"
    }
   ],
   "source": [
    "df.columns"
   ]
  },
  {
   "cell_type": "code",
   "execution_count": 15156,
   "id": "f6ef47bc",
   "metadata": {},
   "outputs": [],
   "source": [
    "# features to drop 'saleType', 'latitude', 'longitude', 'constructionYear', 'fireplaceExists, 'hasAirConditioning, 'saleType'\n",
    "\n",
    "# should probably keep 'condition'\n",
    "# not sure 'kitchen', 'hasGarden'\n",
    "\n",
    "# to keep ['price', 'region', 'province', 'district', 'netHabitableSurface', 'bedroomCount', 'hasDoubleGlazing',  'condition', 'hasGarden', 'gardenSurface']\n",
    "\n",
    "# negative HOUSE test score on with random_state = 70 on this particular set of features\n",
    "features_70 = ['price', 'region', 'province', 'district', 'netHabitableSurface', 'bedroomCount', 'hasDoubleGlazing', 'condition', 'hasSwimmingPool', 'bathroomCount', 'showerRoomCount', 'parkingCountIndoor', 'heatingType', 'hasGarden', 'gardenSurface', 'hasTerrace']\n",
    "# heatingType had some values with very low count which would cause the negative test score. if scares values are not split evenly (all in test or train)\n",
    "# grouping them in 'OTHER' fixed the score \n",
    "\n",
    "# random_state 22 gives a negative test score on APARTMENT\n",
    "features_22 = ['price', 'region', 'province', 'district', 'netHabitableSurface', 'bedroomCount', 'hasDoubleGlazing', 'condition', 'hasSwimmingPool', 'bathroomCount', 'showerRoomCount', 'parkingCountIndoor', 'hasGarden', 'gardenSurface', 'hasTerrace', 'hasLift']\n",
    "\n",
    "xgb_features = ['price', 'region', 'province', 'district', 'netHabitableSurface', 'bedroomCount', 'hasDoubleGlazing', 'condition', 'hasSwimmingPool', 'bathroomCount', 'showerRoomCount', 'parkingCountIndoor', 'hasGarden', 'gardenSurface', 'hasTerrace', 'hasLift', 'kitchen', 'latitude', 'longitude', 'constructionYear']\n",
    "\n",
    "\n",
    "linear_reg_features = ['price', 'region', 'province', 'netHabitableSurface', 'bedroomCount', 'hasDoubleGlazing', 'condition', 'hasSwimmingPool', 'bathroomCount', 'showerRoomCount', 'parkingCountIndoor', 'hasGarden', 'gardenSurface', 'hasTerrace', 'hasLift', 'kitchen', 'latitude', 'longitude']\n",
    "\n",
    "test_features = ['price', 'region', 'province', 'netHabitableSurface', 'bedroomCount', 'hasDoubleGlazing', 'condition', 'hasSwimmingPool', 'bathroomCount', 'showerRoomCount', 'parkingCountIndoor', 'hasGarden', 'gardenSurface', 'hasTerrace', 'hasLift', 'kitchen', 'latitude', 'longitude']\n",
    "\n",
    "\n",
    "# RANDOM STATE: 522\n",
    "# Negative test score\n",
    "# removing 'district' fixed it\n",
    "features_522 = ['price', 'region', 'province', 'district', 'netHabitableSurface', 'bedroomCount', 'hasDoubleGlazing', 'condition', 'hasSwimmingPool', 'bathroomCount', 'showerRoomCount', 'parkingCountIndoor', 'hasGarden', 'gardenSurface', 'hasTerrace', 'hasLift', 'kitchen', 'latitude', 'longitude']\n",
    "\n",
    "\n",
    "\n",
    "df_a = df_a[test_features]\n",
    "df_h = df_h[test_features]\n",
    "\n",
    "df = df[test_features]\n",
    "\n"
   ]
  },
  {
   "cell_type": "code",
   "execution_count": 15157,
   "id": "6b03ba78",
   "metadata": {},
   "outputs": [],
   "source": [
    "df_a = pd.get_dummies(df_a)\n",
    "df_h = pd.get_dummies(df_h)\n",
    "df = pd.get_dummies(df)\n"
   ]
  },
  {
   "cell_type": "code",
   "execution_count": 15158,
   "id": "c7e4501a",
   "metadata": {},
   "outputs": [],
   "source": [
    "from sklearn.preprocessing import MinMaxScaler\n",
    "from sklearn.linear_model import LinearRegression\n",
    "from sklearn.model_selection import train_test_split\n",
    "from sklearn.metrics import mean_squared_error\n",
    "import matplotlib.pyplot as plt\n",
    "\n",
    "from random import *\n",
    "\n",
    "\n",
    "def split_data(df, random_state):\n",
    "    X, y = df.drop('price', axis=1), df['price']\n",
    "    X_train, X_test, y_train, y_test = train_test_split(X, y, random_state=random_state)\n",
    "    return X_train, X_test, y_train, y_test\n",
    "\n",
    "\n",
    "# scale features\n",
    "def scale_features(X_train, X_test):\n",
    "    \n",
    "    scaler = MinMaxScaler()\n",
    "    scaled_X_train = scaler.fit_transform(X_train)\n",
    "    scaled_X_test = scaler.transform(X_test)\n",
    "\n",
    "    df_scaled_X_train = pd.DataFrame(scaled_X_train, columns=X_train.columns)\n",
    "    df_scaled_X_test = pd.DataFrame(scaled_X_test, columns=X_test.columns)\n",
    "    \n",
    "    return df_scaled_X_train, df_scaled_X_test\n",
    "\n",
    "def regression_train_eval(X_train, X_test, y_train, y_test, prop_type):\n",
    "    \n",
    "    scaled_X_train, scaled_X_test = scale_features(X_train, X_test)\n",
    "\n",
    "    model = LinearRegression()\n",
    "    model.fit(scaled_X_train, y_train)\n",
    "\n",
    "    y_pred = model.predict(X_test)\n",
    "\n",
    "    # weights associated with each features\n",
    "    # print(\"Coefficients: \\n\", model.coef_)\n",
    "\n",
    "    print(f'    {prop_type}:')\n",
    "    print(\"        Mean squared error: %.2f\" % mean_squared_error(y_test, y_pred))\n",
    "    print(\"        Training score: %.2f\" % model.score(scaled_X_train, y_train))\n",
    "    print(\"        Test score: %.2f\" % model.score(scaled_X_test, y_test))\n",
    "    \n",
    "    # plt.scatter(y_test, y_pred, color=\"black\")\n",
    "    # plt.plot([y_test.min(), y_test.max()], [y_test.min(), y_test.max()], color=\"blue\")\n",
    "    # plt.title(f'{prop_type}')\n",
    "    # plt.xlabel(\"Actual Price\")\n",
    "    # plt.ylabel(\"Predicted Price\")\n",
    "    # plt.show()\n",
    "    \n",
    "    \n",
    "def linear_reg(df, prop_type, random_state):\n",
    "    X_train, X_test, y_train, y_test = split_data(df, random_state)\n",
    "    regression_train_eval(X_train, X_test, y_train, y_test, prop_type)"
   ]
  },
  {
   "cell_type": "code",
   "execution_count": 15159,
   "id": "15febf20",
   "metadata": {},
   "outputs": [],
   "source": [
    "def main_linear(df, df_h, df_a, random_state='rand'):\n",
    "    if random_state == 'rand':\n",
    "        random_state = randint(1, 1000)\n",
    "    print(f'RANDOM STATE: {random_state}')\n",
    "    linear_reg(df, 'ALL', random_state)\n",
    "    linear_reg(df_h, 'HOUSE', random_state)\n",
    "    linear_reg(df_a, 'APARTMENT', random_state)\n",
    "    \n",
    "\n"
   ]
  },
  {
   "cell_type": "code",
   "execution_count": 15160,
   "id": "ec64938b",
   "metadata": {},
   "outputs": [],
   "source": [
    "import xgboost as xgb\n",
    "\n",
    "def xgb_train_eval(X_train, X_test, y_train, y_test, prop_type):\n",
    "    \n",
    "\n",
    "    # scale features\n",
    "    scaled_X_train, scaled_X_test = scale_features(X_train, X_test)\n",
    "    \n",
    "    model = xgb.XGBRegressor()\n",
    "    model.fit(scaled_X_train, y_train)\n",
    "    y_pred = model.predict(scaled_X_test)\n",
    "\n",
    "\n",
    "    print(f'    {prop_type}:')\n",
    "    print(\"        Mean squared error: %.2f\" % mean_squared_error(y_test, y_pred))\n",
    "    print(\"        Training score: %.2f\" % model.score(scaled_X_train, y_train))\n",
    "    print(\"        Test score: %.2f\" % model.score(scaled_X_test, y_test))\n",
    "\n",
    "    # plt.scatter(y_test, y_pred, color=\"black\")\n",
    "    # plt.plot([y_test.min(), y_test.max()], [y_test.min(), y_test.max()], color=\"blue\")\n",
    "    # plt.title(f'{prop_type}')\n",
    "    # plt.xlabel(\"Actual Price\")\n",
    "    # plt.ylabel(\"Predicted Price\")\n",
    "    # plt.show()\n",
    "    \n",
    "def xgb_reg(df, prop_type, random_state):\n",
    "    X_train, X_test, y_train, y_test = split_data(df, random_state)\n",
    "    xgb_train_eval(X_train, X_test, y_train, y_test, prop_type)"
   ]
  },
  {
   "cell_type": "code",
   "execution_count": 15161,
   "id": "903e25a8",
   "metadata": {},
   "outputs": [
    {
     "name": "stdout",
     "output_type": "stream",
     "text": [
      "RANDOM STATE: 444\n",
      "    ALL:\n",
      "        Mean squared error: 4808159271.12\n",
      "        Training score: 0.90\n",
      "        Test score: 0.70\n",
      "    HOUSE:\n",
      "        Mean squared error: 7377212796.01\n",
      "        Training score: 0.93\n",
      "        Test score: 0.67\n",
      "    APARTMENT:\n",
      "        Mean squared error: 2942453582.03\n",
      "        Training score: 0.94\n",
      "        Test score: 0.71\n",
      "RANDOM STATE: 212\n",
      "    ALL:\n",
      "        Mean squared error: 5139051931.72\n",
      "        Training score: 0.90\n",
      "        Test score: 0.69\n",
      "    HOUSE:\n",
      "        Mean squared error: 7373415970.20\n",
      "        Training score: 0.94\n",
      "        Test score: 0.66\n",
      "    APARTMENT:\n",
      "        Mean squared error: 3064920295.18\n",
      "        Training score: 0.94\n",
      "        Test score: 0.71\n"
     ]
    }
   ],
   "source": [
    "def main_xgb(df, df_h, df_a, random_state):\n",
    "    if random_state == 'rand':\n",
    "        random_state = randint(1, 1000)\n",
    "    print(f'RANDOM STATE: {random_state}')\n",
    "    xgb_reg(df, 'ALL', random_state)\n",
    "    xgb_reg(df_h, 'HOUSE', random_state)\n",
    "    xgb_reg(df_a, 'APARTMENT', random_state)\n",
    "    \n",
    "main_xgb(df, df_h, df_a, 'rand')\n",
    "main_xgb(df, df_h, df_a, 'rand')\n",
    "\n"
   ]
  },
  {
   "cell_type": "code",
   "execution_count": 15162,
   "id": "e047b07b",
   "metadata": {},
   "outputs": [
    {
     "name": "stdout",
     "output_type": "stream",
     "text": [
      "RANDOM STATE: 850\n",
      "    ALL:\n",
      "        Mean squared error: 5203969393.47\n",
      "        Training score: 0.90\n",
      "        Test score: 0.70\n",
      "    HOUSE:\n",
      "        Mean squared error: 7578165432.94\n",
      "        Training score: 0.93\n",
      "        Test score: 0.65\n",
      "    APARTMENT:\n",
      "        Mean squared error: 2978626620.33\n",
      "        Training score: 0.94\n",
      "        Test score: 0.71\n",
      "RANDOM STATE: 796\n",
      "    ALL:\n",
      "        Mean squared error: 5420327624.63\n",
      "        Training score: 0.90\n",
      "        Test score: 0.68\n",
      "    HOUSE:\n",
      "        Mean squared error: 7401270925.04\n",
      "        Training score: 0.93\n",
      "        Test score: 0.65\n",
      "    APARTMENT:\n",
      "        Mean squared error: 2917663522.06\n",
      "        Training score: 0.94\n",
      "        Test score: 0.72\n"
     ]
    }
   ],
   "source": [
    "main_xgb(df, df_h, df_a, 'rand')\n",
    "main_xgb(df, df_h, df_a, 'rand')"
   ]
  }
 ],
 "metadata": {
  "kernelspec": {
   "display_name": "Python 3 (ipykernel)",
   "language": "python",
   "name": "python3"
  },
  "language_info": {
   "codemirror_mode": {
    "name": "ipython",
    "version": 3
   },
   "file_extension": ".py",
   "mimetype": "text/x-python",
   "name": "python",
   "nbconvert_exporter": "python",
   "pygments_lexer": "ipython3",
   "version": "3.11.3"
  }
 },
 "nbformat": 4,
 "nbformat_minor": 5
}
