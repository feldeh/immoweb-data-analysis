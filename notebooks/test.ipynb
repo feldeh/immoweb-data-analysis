{
 "cells": [
  {
   "cell_type": "code",
   "execution_count": 17,
   "id": "2f17db82",
   "metadata": {},
   "outputs": [],
   "source": [
    "import pandas as pd\n",
    "import numpy as np\n",
    "\n",
    "pd.set_option('display.max_columns', None)\n",
    "pd.set_option('display.min_rows', 20)"
   ]
  },
  {
   "cell_type": "code",
   "execution_count": 18,
   "id": "b41fa0da",
   "metadata": {},
   "outputs": [],
   "source": [
    "df = pd.read_csv(\"../data/raw/properties_data.csv\")"
   ]
  },
  {
   "cell_type": "code",
   "execution_count": 19,
   "id": "b4f1762a",
   "metadata": {},
   "outputs": [
    {
     "data": {
      "text/plain": [
       "(19980, 52)"
      ]
     },
     "execution_count": 19,
     "metadata": {},
     "output_type": "execute_result"
    }
   ],
   "source": [
    "df.shape"
   ]
  },
  {
   "cell_type": "code",
   "execution_count": 20,
   "id": "28d9a1d9",
   "metadata": {},
   "outputs": [],
   "source": [
    "# replace values which contains only [.,-] characters with NaN\n",
    "df['number'].replace(r'^[.,-]+$', np.nan, regex=True, inplace=True)\n",
    "# remove trailing [.,-] characters\n",
    "df['number'].replace(r'[.,-]+$', '', regex=True, inplace=True)\n",
    "# drop duplicate rows\n",
    "df.drop_duplicates(subset=['latitude', 'longitude', 'price', 'street', 'postalCode', 'number'], inplace=True)\n",
    "\n",
    "# drop columns\n",
    "col_to_drop = ['URL',\n",
    "            'Status',\n",
    "            'creationDate',\n",
    "            'lastModificationDate',\n",
    "            'transactionType',\n",
    "            'transactionSubtype',\n",
    "            'country',\n",
    "            'isSubjectToVat',\n",
    "            'box',\n",
    "            'number',\n",
    "            'street',\n",
    "            'isFurnished',\n",
    "            'floor',\n",
    "            'floorCount',\n",
    "            'land',\n",
    "            'toiletCount',\n",
    "            'epcScore',\n",
    "            'primaryEnergyConsumptionPerSqm',\n",
    "            'bookmarkCount',\n",
    "            'viewCount',\n",
    "            'locality',\n",
    "            ]\n",
    "df.drop(col_to_drop, axis=1, inplace=True)\n",
    "\n",
    "# drop rows\n",
    "df.dropna(how='any', subset=['price', 'netHabitableSurface', 'region'], inplace=True)\n",
    "\n",
    "df.drop(df[(df['type'] == 'APARTMENT_GROUP') | (df['type'] == 'HOUSE_GROUP')].index, inplace=True)\n",
    "\n",
    "# 'kitchen'\n",
    "df.loc[(df['kitchen'] == 'HYPER_EQUIPPED') | (df['kitchen'] == 'USA_HYPER_EQUIPPED') | (df['kitchen'] == 'USA_INSTALLED')] = 'SUPER_EQUIPPED'\n",
    "df.loc[df['kitchen'] == 'USA_SEMI_EQUIPPED'] = 'SEMI_EQUIPPED'\n",
    "df.loc[df['kitchen'] == 'USA_INSTALLED'] = 'INSTALLED'\n",
    "df.loc[df['kitchen'] == 'USA_UNINSTALLED'] = 'NOT_INSTALLED'\n",
    "\n",
    "# cast from float to str\n",
    "float_col = ['postalCode', 'constructionYear']\n",
    "df[float_col] = df[float_col].astype(str)\n",
    "\n",
    "# data imputation\n",
    "bool_col = ['hasGarden', 'hasTerrace', 'hasSwimmingPool', 'hasAirConditioning', 'hasLift', 'hasDoubleGlazing']\n",
    "df[bool_col] = df[bool_col].fillna(False)\n",
    "\n",
    "num_col = ['terraceSurface', 'gardenSurface', 'parkingCountIndoor', 'bathroomCount', 'showerRoomCount', 'bedroomCount']\n",
    "df[num_col] = df[num_col].fillna(0)\n",
    "\n",
    "obj_col = ['constructionYear', 'heatingType', 'condition']\n",
    "df[obj_col] = df[obj_col].fillna('no_info')\n",
    "\n",
    "df['saleType'] = df['saleType'].fillna('normalSale')\n",
    "\n",
    "df['subtype'] = df['subtype'].fillna(df['type'])\n",
    "\n",
    "# cast from float to str\n",
    "float_col = ['postalCode', 'constructionYear']\n",
    "df[float_col] = df[float_col].astype(str)"
   ]
  },
  {
   "cell_type": "code",
   "execution_count": 22,
   "id": "37b3b8b7",
   "metadata": {},
   "outputs": [
    {
     "data": {
      "text/plain": [
       "(15847, 31)"
      ]
     },
     "execution_count": 22,
     "metadata": {},
     "output_type": "execute_result"
    }
   ],
   "source": [
    "df.shape"
   ]
  },
  {
   "cell_type": "code",
   "execution_count": null,
   "id": "ba941c76",
   "metadata": {},
   "outputs": [],
   "source": []
  }
 ],
 "metadata": {
  "kernelspec": {
   "display_name": "Python 3 (ipykernel)",
   "language": "python",
   "name": "python3"
  },
  "language_info": {
   "codemirror_mode": {
    "name": "ipython",
    "version": 3
   },
   "file_extension": ".py",
   "mimetype": "text/x-python",
   "name": "python",
   "nbconvert_exporter": "python",
   "pygments_lexer": "ipython3",
   "version": "3.11.3"
  }
 },
 "nbformat": 4,
 "nbformat_minor": 5
}
