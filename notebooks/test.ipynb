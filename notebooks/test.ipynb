{
 "cells": [
  {
   "cell_type": "code",
   "execution_count": 93,
   "id": "2f17db82",
   "metadata": {},
   "outputs": [],
   "source": [
    "import pandas as pd\n",
    "import numpy as np\n",
    "\n",
    "pd.set_option('display.max_columns', None)\n",
    "pd.set_option('display.min_rows', 20)"
   ]
  },
  {
   "cell_type": "code",
   "execution_count": 94,
   "id": "b41fa0da",
   "metadata": {},
   "outputs": [],
   "source": [
    "# df = pd.read_csv(\"../data/raw/properties_data.csv\")\n",
    "df = pd.read_csv(\"../data/clean/clean_data.csv\")"
   ]
  },
  {
   "cell_type": "code",
   "execution_count": 95,
   "id": "b4f1762a",
   "metadata": {},
   "outputs": [
    {
     "data": {
      "text/plain": [
       "(15847, 30)"
      ]
     },
     "execution_count": 95,
     "metadata": {},
     "output_type": "execute_result"
    }
   ],
   "source": [
    "df.shape"
   ]
  },
  {
   "cell_type": "code",
   "execution_count": 96,
   "id": "bb5ea6c4",
   "metadata": {},
   "outputs": [
    {
     "data": {
      "text/plain": [
       "0"
      ]
     },
     "execution_count": 96,
     "metadata": {},
     "output_type": "execute_result"
    }
   ],
   "source": [
    "df['kitchen'].isna().sum()"
   ]
  },
  {
   "cell_type": "code",
   "execution_count": 97,
   "id": "fd8d5cee",
   "metadata": {},
   "outputs": [
    {
     "data": {
      "text/plain": [
       "kitchen\n",
       "INSTALLED         5634\n",
       "no_info           5411\n",
       "SUPER_EQUIPPED    2860\n",
       "SEMI_EQUIPPED     1386\n",
       "NOT_INSTALLED      556\n",
       "Name: count, dtype: int64"
      ]
     },
     "execution_count": 97,
     "metadata": {},
     "output_type": "execute_result"
    }
   ],
   "source": [
    "df['kitchen'].value_counts()"
   ]
  },
  {
   "cell_type": "code",
   "execution_count": 98,
   "id": "e23b74c5",
   "metadata": {},
   "outputs": [
    {
     "data": {
      "text/plain": [
       "dtype('float64')"
      ]
     },
     "execution_count": 98,
     "metadata": {},
     "output_type": "execute_result"
    }
   ],
   "source": [
    "df['constructionYear'].dtype"
   ]
  },
  {
   "cell_type": "code",
   "execution_count": 99,
   "id": "2fff3103",
   "metadata": {},
   "outputs": [],
   "source": [
    "float_col = ['postalCode', 'constructionYear']\n",
    "df[float_col] = df[float_col].astype('Int64').astype('str')"
   ]
  },
  {
   "cell_type": "code",
   "execution_count": 100,
   "id": "bcece086",
   "metadata": {},
   "outputs": [
    {
     "data": {
      "text/plain": [
       "constructionYear\n",
       "<NA>    5617\n",
       "2023     788\n",
       "2022     393\n",
       "1930     298\n",
       "1970     220\n",
       "2021     193\n",
       "1968     175\n",
       "1960     170\n",
       "2024     168\n",
       "1974     165\n",
       "        ... \n",
       "1876       1\n",
       "1775       1\n",
       "1886       1\n",
       "1785       1\n",
       "1855       1\n",
       "1848       1\n",
       "1942       1\n",
       "1892       1\n",
       "1916       1\n",
       "1873       1\n",
       "Name: count, Length: 176, dtype: int64"
      ]
     },
     "execution_count": 100,
     "metadata": {},
     "output_type": "execute_result"
    }
   ],
   "source": [
    "df['constructionYear'].value_counts()"
   ]
  },
  {
   "cell_type": "code",
   "execution_count": 101,
   "id": "28d9a1d9",
   "metadata": {},
   "outputs": [
    {
     "ename": "KeyError",
     "evalue": "'number'",
     "output_type": "error",
     "traceback": [
      "\u001b[0;31m---------------------------------------------------------------------------\u001b[0m",
      "\u001b[0;31mKeyError\u001b[0m                                  Traceback (most recent call last)",
      "File \u001b[0;32m~/dev/becode_ai/immoweb-data-analysis/immo_data_analysis_env/lib/python3.11/site-packages/pandas/core/indexes/base.py:3653\u001b[0m, in \u001b[0;36mIndex.get_loc\u001b[0;34m(self, key)\u001b[0m\n\u001b[1;32m   3652\u001b[0m \u001b[39mtry\u001b[39;00m:\n\u001b[0;32m-> 3653\u001b[0m     \u001b[39mreturn\u001b[39;00m \u001b[39mself\u001b[39;49m\u001b[39m.\u001b[39;49m_engine\u001b[39m.\u001b[39;49mget_loc(casted_key)\n\u001b[1;32m   3654\u001b[0m \u001b[39mexcept\u001b[39;00m \u001b[39mKeyError\u001b[39;00m \u001b[39mas\u001b[39;00m err:\n",
      "File \u001b[0;32m~/dev/becode_ai/immoweb-data-analysis/immo_data_analysis_env/lib/python3.11/site-packages/pandas/_libs/index.pyx:147\u001b[0m, in \u001b[0;36mpandas._libs.index.IndexEngine.get_loc\u001b[0;34m()\u001b[0m\n",
      "File \u001b[0;32m~/dev/becode_ai/immoweb-data-analysis/immo_data_analysis_env/lib/python3.11/site-packages/pandas/_libs/index.pyx:176\u001b[0m, in \u001b[0;36mpandas._libs.index.IndexEngine.get_loc\u001b[0;34m()\u001b[0m\n",
      "File \u001b[0;32mpandas/_libs/hashtable_class_helper.pxi:7080\u001b[0m, in \u001b[0;36mpandas._libs.hashtable.PyObjectHashTable.get_item\u001b[0;34m()\u001b[0m\n",
      "File \u001b[0;32mpandas/_libs/hashtable_class_helper.pxi:7088\u001b[0m, in \u001b[0;36mpandas._libs.hashtable.PyObjectHashTable.get_item\u001b[0;34m()\u001b[0m\n",
      "\u001b[0;31mKeyError\u001b[0m: 'number'",
      "\nThe above exception was the direct cause of the following exception:\n",
      "\u001b[0;31mKeyError\u001b[0m                                  Traceback (most recent call last)",
      "Cell \u001b[0;32mIn[101], line 2\u001b[0m\n\u001b[1;32m      1\u001b[0m \u001b[39m# replace values which contains only [.,-] characters with NaN\u001b[39;00m\n\u001b[0;32m----> 2\u001b[0m df[\u001b[39m'\u001b[39;49m\u001b[39mnumber\u001b[39;49m\u001b[39m'\u001b[39;49m]\u001b[39m.\u001b[39mreplace(\u001b[39mr\u001b[39m\u001b[39m'\u001b[39m\u001b[39m^[.,-]+$\u001b[39m\u001b[39m'\u001b[39m, np\u001b[39m.\u001b[39mnan, regex\u001b[39m=\u001b[39m\u001b[39mTrue\u001b[39;00m, inplace\u001b[39m=\u001b[39m\u001b[39mTrue\u001b[39;00m)\n\u001b[1;32m      3\u001b[0m \u001b[39m# remove trailing [.,-] characters\u001b[39;00m\n\u001b[1;32m      4\u001b[0m df[\u001b[39m'\u001b[39m\u001b[39mnumber\u001b[39m\u001b[39m'\u001b[39m]\u001b[39m.\u001b[39mreplace(\u001b[39mr\u001b[39m\u001b[39m'\u001b[39m\u001b[39m[.,-]+$\u001b[39m\u001b[39m'\u001b[39m, \u001b[39m'\u001b[39m\u001b[39m'\u001b[39m, regex\u001b[39m=\u001b[39m\u001b[39mTrue\u001b[39;00m, inplace\u001b[39m=\u001b[39m\u001b[39mTrue\u001b[39;00m)\n",
      "File \u001b[0;32m~/dev/becode_ai/immoweb-data-analysis/immo_data_analysis_env/lib/python3.11/site-packages/pandas/core/frame.py:3761\u001b[0m, in \u001b[0;36mDataFrame.__getitem__\u001b[0;34m(self, key)\u001b[0m\n\u001b[1;32m   3759\u001b[0m \u001b[39mif\u001b[39;00m \u001b[39mself\u001b[39m\u001b[39m.\u001b[39mcolumns\u001b[39m.\u001b[39mnlevels \u001b[39m>\u001b[39m \u001b[39m1\u001b[39m:\n\u001b[1;32m   3760\u001b[0m     \u001b[39mreturn\u001b[39;00m \u001b[39mself\u001b[39m\u001b[39m.\u001b[39m_getitem_multilevel(key)\n\u001b[0;32m-> 3761\u001b[0m indexer \u001b[39m=\u001b[39m \u001b[39mself\u001b[39;49m\u001b[39m.\u001b[39;49mcolumns\u001b[39m.\u001b[39;49mget_loc(key)\n\u001b[1;32m   3762\u001b[0m \u001b[39mif\u001b[39;00m is_integer(indexer):\n\u001b[1;32m   3763\u001b[0m     indexer \u001b[39m=\u001b[39m [indexer]\n",
      "File \u001b[0;32m~/dev/becode_ai/immoweb-data-analysis/immo_data_analysis_env/lib/python3.11/site-packages/pandas/core/indexes/base.py:3655\u001b[0m, in \u001b[0;36mIndex.get_loc\u001b[0;34m(self, key)\u001b[0m\n\u001b[1;32m   3653\u001b[0m     \u001b[39mreturn\u001b[39;00m \u001b[39mself\u001b[39m\u001b[39m.\u001b[39m_engine\u001b[39m.\u001b[39mget_loc(casted_key)\n\u001b[1;32m   3654\u001b[0m \u001b[39mexcept\u001b[39;00m \u001b[39mKeyError\u001b[39;00m \u001b[39mas\u001b[39;00m err:\n\u001b[0;32m-> 3655\u001b[0m     \u001b[39mraise\u001b[39;00m \u001b[39mKeyError\u001b[39;00m(key) \u001b[39mfrom\u001b[39;00m \u001b[39merr\u001b[39;00m\n\u001b[1;32m   3656\u001b[0m \u001b[39mexcept\u001b[39;00m \u001b[39mTypeError\u001b[39;00m:\n\u001b[1;32m   3657\u001b[0m     \u001b[39m# If we have a listlike key, _check_indexing_error will raise\u001b[39;00m\n\u001b[1;32m   3658\u001b[0m     \u001b[39m#  InvalidIndexError. Otherwise we fall through and re-raise\u001b[39;00m\n\u001b[1;32m   3659\u001b[0m     \u001b[39m#  the TypeError.\u001b[39;00m\n\u001b[1;32m   3660\u001b[0m     \u001b[39mself\u001b[39m\u001b[39m.\u001b[39m_check_indexing_error(key)\n",
      "\u001b[0;31mKeyError\u001b[0m: 'number'"
     ]
    }
   ],
   "source": [
    "# replace values which contains only [.,-] characters with NaN\n",
    "df['number'].replace(r'^[.,-]+$', np.nan, regex=True, inplace=True)\n",
    "# remove trailing [.,-] characters\n",
    "df['number'].replace(r'[.,-]+$', '', regex=True, inplace=True)\n",
    "# drop duplicate rows\n",
    "df.drop_duplicates(subset=['latitude', 'longitude', 'price', 'street', 'postalCode', 'number'], inplace=True)\n",
    "\n",
    "# drop columns\n",
    "col_to_drop = ['URL',\n",
    "            'Status',\n",
    "            'creationDate',\n",
    "            'lastModificationDate',\n",
    "            'transactionType',\n",
    "            'transactionSubtype',\n",
    "            'country',\n",
    "            'isSubjectToVat',\n",
    "            'box',\n",
    "            'number',\n",
    "            'street',\n",
    "            'isFurnished',\n",
    "            'floor',\n",
    "            'floorCount',\n",
    "            'land',\n",
    "            'toiletCount',\n",
    "            'epcScore',\n",
    "            'primaryEnergyConsumptionPerSqm',\n",
    "            'bookmarkCount',\n",
    "            'viewCount',\n",
    "            'locality',\n",
    "            ]\n",
    "df.drop(col_to_drop, axis=1, inplace=True)\n",
    "\n",
    "# drop rows\n",
    "df.dropna(how='any', subset=['price', 'netHabitableSurface', 'region'], inplace=True)\n",
    "\n",
    "df.drop(df[(df['type'] == 'APARTMENT_GROUP') | (df['type'] == 'HOUSE_GROUP')].index, inplace=True)\n",
    "\n",
    "# 'kitchen'\n",
    "df.loc[(df['kitchen'] == 'HYPER_EQUIPPED') | (df['kitchen'] == 'USA_HYPER_EQUIPPED') | (df['kitchen'] == 'USA_INSTALLED')] = 'SUPER_EQUIPPED'\n",
    "df.loc[df['kitchen'] == 'USA_SEMI_EQUIPPED'] = 'SEMI_EQUIPPED'\n",
    "df.loc[df['kitchen'] == 'USA_INSTALLED'] = 'INSTALLED'\n",
    "df.loc[df['kitchen'] == 'USA_UNINSTALLED'] = 'NOT_INSTALLED'\n",
    "\n",
    "# cast from float to str\n",
    "float_col = ['postalCode', 'constructionYear']\n",
    "df[float_col] = df[float_col].astype(str)\n",
    "\n",
    "# data imputation\n",
    "bool_col = ['hasGarden', 'hasTerrace', 'hasSwimmingPool', 'hasAirConditioning', 'hasLift', 'hasDoubleGlazing']\n",
    "df[bool_col] = df[bool_col].fillna(False)\n",
    "\n",
    "num_col = ['terraceSurface', 'gardenSurface', 'parkingCountIndoor', 'bathroomCount', 'showerRoomCount', 'bedroomCount']\n",
    "df[num_col] = df[num_col].fillna(0)\n",
    "\n",
    "obj_col = ['constructionYear', 'heatingType', 'condition']\n",
    "df[obj_col] = df[obj_col].fillna('no_info')\n",
    "\n",
    "df['saleType'] = df['saleType'].fillna('normalSale')\n",
    "\n",
    "df['subtype'] = df['subtype'].fillna(df['type'])\n",
    "\n",
    "# cast from float to str\n",
    "float_col = ['postalCode', 'constructionYear']\n",
    "df[float_col] = df[float_col].astype(str)"
   ]
  },
  {
   "cell_type": "code",
   "execution_count": null,
   "id": "37b3b8b7",
   "metadata": {},
   "outputs": [
    {
     "data": {
      "text/plain": [
       "(15847, 31)"
      ]
     },
     "execution_count": 83,
     "metadata": {},
     "output_type": "execute_result"
    }
   ],
   "source": [
    "df.shape"
   ]
  },
  {
   "cell_type": "code",
   "execution_count": null,
   "id": "ba941c76",
   "metadata": {},
   "outputs": [],
   "source": []
  }
 ],
 "metadata": {
  "kernelspec": {
   "display_name": "Python 3 (ipykernel)",
   "language": "python",
   "name": "python3"
  },
  "language_info": {
   "codemirror_mode": {
    "name": "ipython",
    "version": 3
   },
   "file_extension": ".py",
   "mimetype": "text/x-python",
   "name": "python",
   "nbconvert_exporter": "python",
   "pygments_lexer": "ipython3",
   "version": "3.11.3"
  }
 },
 "nbformat": 4,
 "nbformat_minor": 5
}
